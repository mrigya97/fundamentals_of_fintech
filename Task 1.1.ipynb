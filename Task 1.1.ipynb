{
 "cells": [
  {
   "cell_type": "code",
   "execution_count": 3,
   "metadata": {},
   "outputs": [
    {
     "name": "stdout",
     "output_type": "stream",
     "text": [
      "9098\n"
     ]
    }
   ],
   "source": [
    "import json\n",
    "import requests\n",
    "\n",
    "#The transaction happened between Mrigya Sharma and Jack Rogers. \n",
    "#From JSON script, block height has been extracted\n",
    "answer=requests.get(\"https://api.whatsonchain.com/v1/bsv/main/block/height/685335\")\n",
    "genesis_block=json.loads(answer.text)\n",
    "print(genesis_block['txcount'])"
   ]
  },
  {
   "cell_type": "code",
   "execution_count": 4,
   "metadata": {},
   "outputs": [
    {
     "name": "stdout",
     "output_type": "stream",
     "text": [
      "1619881381\n"
     ]
    }
   ],
   "source": [
    "#Generates the time of the block\n",
    "print(genesis_block['time'])"
   ]
  },
  {
   "cell_type": "code",
   "execution_count": 5,
   "metadata": {},
   "outputs": [
    {
     "name": "stdout",
     "output_type": "stream",
     "text": [
      "0.1062676800000002\n"
     ]
    }
   ],
   "source": [
    "#Total fees needed for transaction\n",
    "print(genesis_block['totalFees'])"
   ]
  },
  {
   "cell_type": "code",
   "execution_count": 6,
   "metadata": {},
   "outputs": [
    {
     "name": "stdout",
     "output_type": "stream",
     "text": [
      "710\n"
     ]
    }
   ],
   "source": [
    "#Total number of confirmations\n",
    "print(genesis_block['confirmations'])"
   ]
  },
  {
   "cell_type": "code",
   "execution_count": 7,
   "metadata": {},
   "outputs": [
    {
     "name": "stdout",
     "output_type": "stream",
     "text": [
      "taal.com\n"
     ]
    }
   ],
   "source": [
    "#Generates the medium used for data mining\n",
    "print(genesis_block['miner'])"
   ]
  },
  {
   "cell_type": "code",
   "execution_count": 9,
   "metadata": {},
   "outputs": [
    {
     "name": "stdout",
     "output_type": "stream",
     "text": [
      "2021-05-01 16:03:01\n"
     ]
    }
   ],
   "source": [
    "#Time at which transaction happened\n",
    "import datetime\n",
    "timestamp = datetime.datetime.fromtimestamp(genesis_block['time'])\n",
    "print(timestamp.strftime('%Y-%m-%d %H:%M:%S'))"
   ]
  },
  {
   "cell_type": "code",
   "execution_count": null,
   "metadata": {},
   "outputs": [],
   "source": []
  }
 ],
 "metadata": {
  "kernelspec": {
   "display_name": "Python 3",
   "language": "python",
   "name": "python3"
  },
  "language_info": {
   "codemirror_mode": {
    "name": "ipython",
    "version": 3
   },
   "file_extension": ".py",
   "mimetype": "text/x-python",
   "name": "python",
   "nbconvert_exporter": "python",
   "pygments_lexer": "ipython3",
   "version": "3.8.3"
  }
 },
 "nbformat": 4,
 "nbformat_minor": 4
}
