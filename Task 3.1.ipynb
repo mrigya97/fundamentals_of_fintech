{
 "cells": [
  {
   "cell_type": "code",
   "execution_count": null,
   "metadata": {},
   "outputs": [],
   "source": [
    "#3.1\n",
    "#The Sarunas' Fintech has four repository and has an ideology like simple FinTech business.\n",
    "#First, the customers fill their application in Streamlit UI in which they fill that how\n",
    "#much amount of loan they require. This data is passed to the statistcal model which runs on\n",
    "#FastAPI. From the data, the amount of loan is regressed on the income of individuals. \n",
    "#For someone with income £10,000 , the chances of paying loan back is zero whereas \n",
    "#For someone with income £100,000, the chances of paying loan back is high.\n",
    "#Post regression, the responses and requests are stored in database which will be\n",
    "#further analysed by JupyterLab so that it can be assure to whom banks or financial\n",
    "#institutions can give loan based on individuals' income"
   ]
  },
  {
   "cell_type": "code",
   "execution_count": null,
   "metadata": {},
   "outputs": [],
   "source": [
    "\n"
   ]
  }
 ],
 "metadata": {
  "kernelspec": {
   "display_name": "Python 3",
   "language": "python",
   "name": "python3"
  },
  "language_info": {
   "codemirror_mode": {
    "name": "ipython",
    "version": 3
   },
   "file_extension": ".py",
   "mimetype": "text/x-python",
   "name": "python",
   "nbconvert_exporter": "python",
   "pygments_lexer": "ipython3",
   "version": "3.8.3"
  }
 },
 "nbformat": 4,
 "nbformat_minor": 4
}
