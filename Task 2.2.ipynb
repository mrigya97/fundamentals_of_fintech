{
 "cells": [
  {
   "cell_type": "code",
   "execution_count": 1,
   "metadata": {},
   "outputs": [
    {
     "name": "stdout",
     "output_type": "stream",
     "text": [
      "Requirement already satisfied: fredapi in c:\\users\\hi\\anaconda3\\lib\\site-packages (0.4.3)Note: you may need to restart the kernel to use updated packages.\n",
      "Requirement already satisfied: pandas in c:\\users\\hi\\anaconda3\\lib\\site-packages (from fredapi) (1.0.5)\n",
      "Requirement already satisfied: pytz>=2017.2 in c:\\users\\hi\\anaconda3\\lib\\site-packages (from pandas->fredapi) (2020.1)\n",
      "Requirement already satisfied: numpy>=1.13.3 in c:\\users\\hi\\anaconda3\\lib\\site-packages (from pandas->fredapi) (1.18.5)\n",
      "Requirement already satisfied: python-dateutil>=2.6.1 in c:\\users\\hi\\anaconda3\\lib\\site-packages (from pandas->fredapi) (2.8.1)\n",
      "Requirement already satisfied: six>=1.5 in c:\\users\\hi\\anaconda3\\lib\\site-packages (from python-dateutil>=2.6.1->pandas->fredapi) (1.15.0)\n",
      "\n"
     ]
    }
   ],
   "source": [
    "pip install fredapi"
   ]
  },
  {
   "cell_type": "code",
   "execution_count": 2,
   "metadata": {},
   "outputs": [],
   "source": [
    "import pandas as pd\n",
    "from fredapi import Fred\n",
    "fred = Fred(api_key='ba62defdd2d357a1a45f8e2f0d70816a')"
   ]
  },
  {
   "cell_type": "code",
   "execution_count": 3,
   "metadata": {},
   "outputs": [],
   "source": [
    "bitcoinprice = fred.get_series('CBBTCUSD')\n",
    "goldprice = fred.get_series('ID7108')\n",
    "market = fred.get_series('SP500')\n",
    "riskfreerate = fred.get_series('TB3MS')"
   ]
  },
  {
   "cell_type": "code",
   "execution_count": 4,
   "metadata": {},
   "outputs": [],
   "source": [
    "df = pd.concat([bitcoinprice,goldprice,market,riskfreerate], axis=1)"
   ]
  },
  {
   "cell_type": "code",
   "execution_count": 5,
   "metadata": {},
   "outputs": [],
   "source": [
    "\n",
    "df.columns = ('bitcoinprice','goldprice','market','riskfreerate')"
   ]
  },
  {
   "cell_type": "code",
   "execution_count": 6,
   "metadata": {},
   "outputs": [],
   "source": [
    "df = df.loc['2016-01-01':'2021-04-30']"
   ]
  },
  {
   "cell_type": "code",
   "execution_count": 7,
   "metadata": {},
   "outputs": [],
   "source": [
    "df = df.fillna(method='ffill')"
   ]
  },
  {
   "cell_type": "code",
   "execution_count": 8,
   "metadata": {},
   "outputs": [],
   "source": [
    "df = df[df.index.day==1]"
   ]
  },
  {
   "cell_type": "code",
   "execution_count": 9,
   "metadata": {},
   "outputs": [],
   "source": [
    "#Formula for previous time \n",
    "df['bt-1'] = df['bitcoinprice'].shift(1)\n",
    "df['gp-1'] = df['goldprice'].shift(1)\n",
    "df['market-1'] = df['market'].shift(1)"
   ]
  },
  {
   "cell_type": "code",
   "execution_count": 10,
   "metadata": {},
   "outputs": [],
   "source": [
    "import numpy as np"
   ]
  },
  {
   "cell_type": "code",
   "execution_count": 11,
   "metadata": {},
   "outputs": [],
   "source": [
    "#Formula for calculating returns for bitcoinprice, goldprice and market\n",
    "df['log_b'] = np.log(df['bitcoinprice'])/df['bitcoinprice'].shift(1)\n",
    "df['log_g'] = np.log(df['goldprice'])/df['goldprice'].shift(1)\n",
    "df['log_m'] = np.log(df['market'])/df['market'].shift(1)\n",
    "df['rfr-1'] = df['riskfreerate']/1200"
   ]
  },
  {
   "cell_type": "code",
   "execution_count": 12,
   "metadata": {},
   "outputs": [
    {
     "data": {
      "text/html": [
       "<div>\n",
       "<style scoped>\n",
       "    .dataframe tbody tr th:only-of-type {\n",
       "        vertical-align: middle;\n",
       "    }\n",
       "\n",
       "    .dataframe tbody tr th {\n",
       "        vertical-align: top;\n",
       "    }\n",
       "\n",
       "    .dataframe thead th {\n",
       "        text-align: right;\n",
       "    }\n",
       "</style>\n",
       "<table border=\"1\" class=\"dataframe\">\n",
       "  <thead>\n",
       "    <tr style=\"text-align: right;\">\n",
       "      <th></th>\n",
       "      <th>bitcoinprice</th>\n",
       "      <th>goldprice</th>\n",
       "      <th>market</th>\n",
       "      <th>riskfreerate</th>\n",
       "      <th>bt-1</th>\n",
       "      <th>gp-1</th>\n",
       "      <th>market-1</th>\n",
       "      <th>log_b</th>\n",
       "      <th>log_g</th>\n",
       "      <th>log_m</th>\n",
       "      <th>rfr-1</th>\n",
       "    </tr>\n",
       "  </thead>\n",
       "  <tbody>\n",
       "    <tr>\n",
       "      <th>2016-01-01</th>\n",
       "      <td>435.66</td>\n",
       "      <td>395.0</td>\n",
       "      <td>NaN</td>\n",
       "      <td>0.26</td>\n",
       "      <td>NaN</td>\n",
       "      <td>NaN</td>\n",
       "      <td>NaN</td>\n",
       "      <td>NaN</td>\n",
       "      <td>NaN</td>\n",
       "      <td>NaN</td>\n",
       "      <td>0.000217</td>\n",
       "    </tr>\n",
       "    <tr>\n",
       "      <th>2016-02-01</th>\n",
       "      <td>371.33</td>\n",
       "      <td>412.4</td>\n",
       "      <td>1939.38</td>\n",
       "      <td>0.31</td>\n",
       "      <td>435.66</td>\n",
       "      <td>395.0</td>\n",
       "      <td>NaN</td>\n",
       "      <td>0.013582</td>\n",
       "      <td>0.015246</td>\n",
       "      <td>NaN</td>\n",
       "      <td>0.000258</td>\n",
       "    </tr>\n",
       "    <tr>\n",
       "      <th>2016-03-01</th>\n",
       "      <td>433.08</td>\n",
       "      <td>451.2</td>\n",
       "      <td>1978.35</td>\n",
       "      <td>0.29</td>\n",
       "      <td>371.33</td>\n",
       "      <td>412.4</td>\n",
       "      <td>1939.38</td>\n",
       "      <td>0.016349</td>\n",
       "      <td>0.014820</td>\n",
       "      <td>0.003914</td>\n",
       "      <td>0.000242</td>\n",
       "    </tr>\n",
       "    <tr>\n",
       "      <th>2016-04-01</th>\n",
       "      <td>417.68</td>\n",
       "      <td>445.4</td>\n",
       "      <td>2072.78</td>\n",
       "      <td>0.23</td>\n",
       "      <td>433.08</td>\n",
       "      <td>451.2</td>\n",
       "      <td>1978.35</td>\n",
       "      <td>0.013934</td>\n",
       "      <td>0.013517</td>\n",
       "      <td>0.003860</td>\n",
       "      <td>0.000192</td>\n",
       "    </tr>\n",
       "    <tr>\n",
       "      <th>2016-05-01</th>\n",
       "      <td>456.98</td>\n",
       "      <td>465.7</td>\n",
       "      <td>2065.30</td>\n",
       "      <td>0.27</td>\n",
       "      <td>417.68</td>\n",
       "      <td>445.4</td>\n",
       "      <td>2072.78</td>\n",
       "      <td>0.014663</td>\n",
       "      <td>0.013793</td>\n",
       "      <td>0.003683</td>\n",
       "      <td>0.000225</td>\n",
       "    </tr>\n",
       "    <tr>\n",
       "      <th>...</th>\n",
       "      <td>...</td>\n",
       "      <td>...</td>\n",
       "      <td>...</td>\n",
       "      <td>...</td>\n",
       "      <td>...</td>\n",
       "      <td>...</td>\n",
       "      <td>...</td>\n",
       "      <td>...</td>\n",
       "      <td>...</td>\n",
       "      <td>...</td>\n",
       "      <td>...</td>\n",
       "    </tr>\n",
       "    <tr>\n",
       "      <th>2020-12-01</th>\n",
       "      <td>18763.35</td>\n",
       "      <td>658.5</td>\n",
       "      <td>3662.45</td>\n",
       "      <td>0.09</td>\n",
       "      <td>13784.52</td>\n",
       "      <td>694.6</td>\n",
       "      <td>3269.96</td>\n",
       "      <td>0.000714</td>\n",
       "      <td>0.009343</td>\n",
       "      <td>0.002509</td>\n",
       "      <td>0.000075</td>\n",
       "    </tr>\n",
       "    <tr>\n",
       "      <th>2021-01-01</th>\n",
       "      <td>29391.09</td>\n",
       "      <td>696.6</td>\n",
       "      <td>3756.07</td>\n",
       "      <td>0.08</td>\n",
       "      <td>18763.35</td>\n",
       "      <td>658.5</td>\n",
       "      <td>3662.45</td>\n",
       "      <td>0.000548</td>\n",
       "      <td>0.009941</td>\n",
       "      <td>0.002247</td>\n",
       "      <td>0.000067</td>\n",
       "    </tr>\n",
       "    <tr>\n",
       "      <th>2021-02-01</th>\n",
       "      <td>33457.60</td>\n",
       "      <td>661.7</td>\n",
       "      <td>3773.86</td>\n",
       "      <td>0.04</td>\n",
       "      <td>29391.09</td>\n",
       "      <td>696.6</td>\n",
       "      <td>3756.07</td>\n",
       "      <td>0.000354</td>\n",
       "      <td>0.009324</td>\n",
       "      <td>0.002193</td>\n",
       "      <td>0.000033</td>\n",
       "    </tr>\n",
       "    <tr>\n",
       "      <th>2021-03-01</th>\n",
       "      <td>49652.19</td>\n",
       "      <td>622.7</td>\n",
       "      <td>3901.82</td>\n",
       "      <td>0.03</td>\n",
       "      <td>33457.60</td>\n",
       "      <td>661.7</td>\n",
       "      <td>3773.86</td>\n",
       "      <td>0.000323</td>\n",
       "      <td>0.009724</td>\n",
       "      <td>0.002191</td>\n",
       "      <td>0.000025</td>\n",
       "    </tr>\n",
       "    <tr>\n",
       "      <th>2021-04-01</th>\n",
       "      <td>58768.84</td>\n",
       "      <td>622.7</td>\n",
       "      <td>4019.87</td>\n",
       "      <td>0.03</td>\n",
       "      <td>49652.19</td>\n",
       "      <td>622.7</td>\n",
       "      <td>3901.82</td>\n",
       "      <td>0.000221</td>\n",
       "      <td>0.010333</td>\n",
       "      <td>0.002127</td>\n",
       "      <td>0.000025</td>\n",
       "    </tr>\n",
       "  </tbody>\n",
       "</table>\n",
       "<p>64 rows × 11 columns</p>\n",
       "</div>"
      ],
      "text/plain": [
       "            bitcoinprice  goldprice   market  riskfreerate      bt-1   gp-1  \\\n",
       "2016-01-01        435.66      395.0      NaN          0.26       NaN    NaN   \n",
       "2016-02-01        371.33      412.4  1939.38          0.31    435.66  395.0   \n",
       "2016-03-01        433.08      451.2  1978.35          0.29    371.33  412.4   \n",
       "2016-04-01        417.68      445.4  2072.78          0.23    433.08  451.2   \n",
       "2016-05-01        456.98      465.7  2065.30          0.27    417.68  445.4   \n",
       "...                  ...        ...      ...           ...       ...    ...   \n",
       "2020-12-01      18763.35      658.5  3662.45          0.09  13784.52  694.6   \n",
       "2021-01-01      29391.09      696.6  3756.07          0.08  18763.35  658.5   \n",
       "2021-02-01      33457.60      661.7  3773.86          0.04  29391.09  696.6   \n",
       "2021-03-01      49652.19      622.7  3901.82          0.03  33457.60  661.7   \n",
       "2021-04-01      58768.84      622.7  4019.87          0.03  49652.19  622.7   \n",
       "\n",
       "            market-1     log_b     log_g     log_m     rfr-1  \n",
       "2016-01-01       NaN       NaN       NaN       NaN  0.000217  \n",
       "2016-02-01       NaN  0.013582  0.015246       NaN  0.000258  \n",
       "2016-03-01   1939.38  0.016349  0.014820  0.003914  0.000242  \n",
       "2016-04-01   1978.35  0.013934  0.013517  0.003860  0.000192  \n",
       "2016-05-01   2072.78  0.014663  0.013793  0.003683  0.000225  \n",
       "...              ...       ...       ...       ...       ...  \n",
       "2020-12-01   3269.96  0.000714  0.009343  0.002509  0.000075  \n",
       "2021-01-01   3662.45  0.000548  0.009941  0.002247  0.000067  \n",
       "2021-02-01   3756.07  0.000354  0.009324  0.002193  0.000033  \n",
       "2021-03-01   3773.86  0.000323  0.009724  0.002191  0.000025  \n",
       "2021-04-01   3901.82  0.000221  0.010333  0.002127  0.000025  \n",
       "\n",
       "[64 rows x 11 columns]"
      ]
     },
     "execution_count": 12,
     "metadata": {},
     "output_type": "execute_result"
    }
   ],
   "source": [
    "df"
   ]
  },
  {
   "cell_type": "code",
   "execution_count": 13,
   "metadata": {},
   "outputs": [],
   "source": [
    "rbt = df[\"log_b\"]\n",
    "rgt = df[\"log_g\"]\n",
    "rmt = df[\"log_b\"]\n",
    "rft = df[\"rfr-1\"]"
   ]
  },
  {
   "cell_type": "code",
   "execution_count": null,
   "metadata": {},
   "outputs": [],
   "source": []
  },
  {
   "cell_type": "code",
   "execution_count": null,
   "metadata": {},
   "outputs": [],
   "source": []
  }
 ],
 "metadata": {
  "kernelspec": {
   "display_name": "Python 3",
   "language": "python",
   "name": "python3"
  },
  "language_info": {
   "codemirror_mode": {
    "name": "ipython",
    "version": 3
   },
   "file_extension": ".py",
   "mimetype": "text/x-python",
   "name": "python",
   "nbconvert_exporter": "python",
   "pygments_lexer": "ipython3",
   "version": "3.8.3"
  }
 },
 "nbformat": 4,
 "nbformat_minor": 4
}
